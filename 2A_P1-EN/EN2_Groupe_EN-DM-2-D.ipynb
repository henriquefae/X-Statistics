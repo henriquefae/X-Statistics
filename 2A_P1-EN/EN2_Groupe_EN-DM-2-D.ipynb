{
 "cells": [
  {
   "cell_type": "markdown",
   "id": "babdf1f7",
   "metadata": {},
   "source": [
    " # EN2 - APM_41033\n",
    " ## Groupe D\n",
    " _Henrique Fae, Samuel Aïdan, Eloi Nautin_"
   ]
  },
  {
   "cell_type": "markdown",
   "id": "a0dc0a8c",
   "metadata": {},
   "source": [
    "### Q1)\n",
    "\n",
    "Calculons les estimateurs du maximum de vraisemblance pour les paramètres $\\theta = (\\mu_0, \\sigma_0^2, \\mu_1, \\sigma_1^2)$ basés sur deux échantillons indépendants, $X_1, \\ldots, X_n$ et $Y_1, \\ldots, Y_p$, supposés tous deux normalement distribués.\n",
    "\n",
    "Calculons la fonction de vraisemblance associée à cet échantillon\n",
    "$$\n",
    "L_{n,p}(\\theta) = \\left( \\prod_{i=1}^{n} \\frac{1}{\\sqrt{2\\pi\\sigma_{0}^{2}}}e^{-\\frac{(x_{i}-\\mu_{0})^{2}}{2\\sigma_{0}^{2}}} \\right) \\left( \\prod_{j=1}^{p} \\frac{1}{\\sqrt{2\\pi\\sigma_{1}^{2}}}e^{-\\frac{(y_{j}-\\mu_{1})^{2}}{2\\sigma_{1}^{2}}} \\right)\n",
    "$$\n",
    "Log-Vraisemblance:\n",
    "$$\n",
    "l_{n,p}(\\theta) = -\\frac{n}{2}\\log(2\\pi\\sigma_{0}^{2}) - \\frac{p}{2}\\log(2\\pi\\sigma_{1}^{2}) - \\sum_{i=1}^{n}\\frac{(x_{i}-\\mu_{0})^{2}}{2\\sigma_{0}^{2}} - \\sum_{j=1}^{p}\\frac{(y_{j}-\\mu_{1})^{2}}{2\\sigma_{1}^{2}}\n",
    "$$\n",
    "\n",
    "Pour les estimateurs $\\nabla_{\\theta}l_{n,p}(\\theta)=0$:\n",
    "$$\n",
    "\\frac{\\partial l_{n,p}}{\\partial \\mu_0} = \\sum_{i=1}^{n}\\frac{(x_{i}-\\mu_{0})}{\\sigma_{0}^{2}} = 0 \\implies \\hat{\\mu}_{0} = \\frac{1}{n}\\sum_{i=1}^{n}X_{i} = \\overline{X}_{n}\n",
    "$$\n",
    "$$\n",
    "\\text{Similairement: } \\hat{\\mu}_{1} = \\frac{1}{p}\\sum_{j=1}^{p}Y_{j} = \\overline{Y}_{p}\n",
    "$$\n",
    "\n",
    "EMV pour $\\sigma_0^2$ et $\\sigma_1^2$:\n",
    "$$\n",
    "-\\frac{n}{2\\sigma_{0}^{2}} + \\frac{1}{2(\\sigma_{0}^{2})^{2}}\\sum_{i=1}^{n}(x_{i}-\\mu_{0})^{2} = 0 \\implies \\hat{\\sigma}_{0}^{2} = \\frac{1}{n}\\sum_{i=1}^{n}(x_{i}-\\overline{X}_{n})^{2}\n",
    "$$\n",
    "$$\n",
    "\\text{Similairement: } \\hat{\\sigma}_{1}^{2} = \\frac{1}{p}\\sum_{j=1}^{p}(y_{j}-\\overline{Y}_{p})^{2}\n",
    "$$\n",
    "\n",
    "D'où:\n",
    "$$\n",
    "\\hat{\\theta}_{n,p}^{\\text{EMV}} = (\\hat{\\mu}_{0}, \\hat{\\sigma}_{0}^{2}, \\hat{\\mu}_{1}, \\hat{\\sigma}_{1}^{2})\n",
    "$$"
   ]
  },
  {
   "cell_type": "markdown",
   "id": "7bc322c1",
   "metadata": {},
   "source": [
    "### Q2)\n",
    "\n",
    "Modèle et hypothèses.\n",
    "On observe deux échantillons indépendants\n",
    "$X_1,\\dots,X_n \\sim \\mathcal N(\\mu_0,\\sigma_0^2)$ et\n",
    "$Y_1,\\dots,Y_p \\sim \\mathcal N(\\mu_1,\\sigma_1^2)$.\n",
    "On veut tester $H_0:\\ \\sigma_0^2=\\sigma_1^2$ contre $H_1:\\ \\sigma_0^2\\neq\\sigma_1^2$.\n",
    "\n",
    "1) Définissons $\\widehat{\\sigma^2}$ sous $H_0$.\n",
    "Posons $SS_0=\\sum_{i=1}^n (X_i-\\bar X)^2$ et $SS_1=\\sum_{j=1}^p (Y_j-\\bar Y)^2$.\n",
    "Sous $H_0$ (variance commune $\\sigma^2$), les MLE des moyennes sont\n",
    "$\\widehat\\mu_0=\\bar X,\\ \\widehat\\mu_1=\\bar Y$, et le MLE de la variance commune vaut\n",
    "$$\n",
    "\\widehat{\\sigma^2}\n",
    "=\\arg\\max_{\\sigma^2>0} L(\\bar X,\\bar Y,\\sigma^2)\n",
    "=\\frac{SS_0+SS_1}{n+p}.\n",
    "$$\n",
    "\n",
    "2) Utilisons les estimateurs dans le rapport de vraisemblance généralisé.\n",
    "Notons $\\Theta=\\R^2\\times(\\R_+^*)^2$ et $\\Theta_0=\\{(\\mu_0,\\mu_1,\\sigma^2,\\sigma^2)\\}$.\n",
    "Le rapport de vraisemblance généralisé est\n",
    "$$\n",
    "\\Lambda_{n,p}\n",
    "=\\frac{\\displaystyle\\max_{\\theta\\in\\Theta} L(\\theta)}\n",
    "{\\displaystyle\\max_{\\theta\\in\\Theta_0} L(\\theta)}.\n",
    "$$\n",
    "Dans le modèle complet (variances libres) les MLE sont\n",
    "$\\widehat\\mu_0=\\bar X,\\ \\widehat\\mu_1=\\bar Y,\\\n",
    "\\widehat\\sigma_0^2=SS_0/n,\\ \\widehat\\sigma_1^2=SS_1/p$.\n",
    "Sous $H_0$, $\\widehat\\mu_0=\\bar X,\\ \\widehat\\mu_1=\\bar Y,\\ \\widehat\\sigma^2=(SS_0+SS_1)/(n+p)$.\n",
    "En évaluant les log-vraisemblances aux MLE et en simplifiant,\n",
    "$$\n",
    "\\Lambda_{n,p}\n",
    "=\\frac{\\Big(\\frac{SS_0+SS_1}{n+p}\\Big)^{\\frac{n+p}{2}}}\n",
    "{\\Big(\\frac{SS_0}{n}\\Big)^{\\frac n2}\\Big(\\frac{SS_1}{p}\\Big)^{\\frac p2}}.\n",
    "$$\n",
    "\n",
    "3) Posons le ratio\n",
    "$$\n",
    "r=\\frac{\\widehat\\sigma_0^2}{\\widehat\\sigma_1^2}\n",
    "=\\frac{SS_0/n}{SS_1/p}\n",
    "=\\frac{p}{n}\\,\\frac{SS_0}{SS_1}.\n",
    "$$\n",
    "On obtient:\n",
    "$$\n",
    "2\\log\\Lambda_{n,p}=(n+p)\\log(\\frac{nr+p}{n+p})-n\\log (r) ⇒ 2\\log\\Lambda_{n,p}=(n+p)\\log(SS_0+SS_1)-n\\log (SS_0 / n)-p\\log (SS_1 / p)\n",
    "$$\n",
    "\n",
    "Comme $\\log$ est une fonction concave, on a:\n",
    "$$\n",
    "(n+p)\\log(SS_0+SS_1) \\geq n\\log (SS_0 / n)+p\\log (SS_1 / p) ⇒ \\Lambda_{n,p} \\geq 1\n",
    "$$\n",
    "En contraignant $SS_0,SS_1$ via $r$ (à somme fixée), on vérifie que $2\\log\\Lambda_{n,p}$\n",
    "est une fonction strictement décroissante de $r$ pour $r>1$ et strictement croissante pour $0<r<1$,\n",
    "avec un minimum en $r=1$. Le test du rapport de vraisemblance généralisé (GLRT) rejette donc quand $\\widehat\\sigma_0^2$ s'éloigne de $\\widehat\\sigma_1^2$.\n",
    "\n",
    "4) Soient $S_0^2=SS_0/(n-1)$ et $S_1^2=SS_1/(p-1)$. On a:\n",
    "$$\n",
    "\\frac{(n-1)S_0^2}{\\sigma^2}\\sim\\chi^2_{n-1},\\qquad\n",
    "\\frac{(p-1)S_1^2}{\\sigma^2}\\sim\\chi^2_{p-1},\\qquad \\text{indépendants}.\n",
    "$$\n",
    "Donc la statistique pivotale\n",
    "$$\n",
    "F=\\frac{S_0^2}{S_1^2}\n",
    "=\\frac{SS_0/(n-1)}{SS_1/(p-1)}\n",
    "=\\underbrace{\\frac{n(p-1)}{p(n-1)}}_{\\text{constante}}\\cdot\n",
    "\\underbrace{\\frac{SS_0/n}{SS_1/p}}_{=\\,r}\n",
    "\\ \\sim\\ F_{\\,n-1,\\,p-1}\\quad\\text{sous }H_0.\n",
    "$$\n",
    "Comme $F$ est une transformation strictement monotone de $r$,\n",
    "le test basé sur $F$ a la même région critique que le GLRT.\n",
    "\n",
    "5) Écrivons un test de niveau $\\alpha$.\n",
    "Notons $f_{\\nu_1,\\nu_2;\\,q}$ le quantile d'ordre $q$ de $F_{\\nu_1,\\nu_2}$.\n",
    "Le test bilatéral de niveau $\\alpha$ rejette $H_0$ si\n",
    "$$\n",
    "\\boxed{\\quad F< f_{\\,n-1,\\,p-1;\\,\\alpha/2}\\quad \\text{ou}\\quad\n",
    "F> f_{\\,n-1,\\,p-1;\\,1-\\alpha/2}\\quad }.\n",
    "$$\n"
   ]
  },
  {
   "cell_type": "markdown",
   "id": "ea5c45b3",
   "metadata": {},
   "source": [
    "### Q3)\n",
    "On dispose des deux échantillons indépendants de la question précédente :\n",
    "$X_1,\\dots,X_n \\sim \\mathcal N(\\mu_0,\\sigma_0^2)$ et\n",
    "$Y_1,\\dots,Y_p \\sim \\mathcal N(\\mu_1,\\sigma_1^2)$.\n",
    "On veut réaliser numériquement le test de l’égalité des variances\n",
    "en utilisant la statistique pivotale $F$ trouvée à la question 2,\n",
    "et en calculant la p-valeur correspondante sur les données fournies.\n",
    "\n",
    "1) Le test de niveau $\\alpha$ rejettera $H_0$ si\n",
    "$$\n",
    "F< f_{\\,n-1,\\,p-1;\\,\\alpha/2}\n",
    "\\quad \\text{ou}\\quad\n",
    "F> f_{\\,n-1,\\,p-1;\\,1-\\alpha/2}.\n",
    "$$\n",
    "\n",
    "2) Calculs numériques sur les données.  \n",
    "À partir des observations des deux groupes, on calcule :\n",
    "$$\n",
    "S_0^2=\\frac{1}{n-1}\\sum_{i=1}^n (X_i-\\bar X)^2,\n",
    "\\qquad\n",
    "S_1^2=\\frac{1}{p-1}\\sum_{j=1}^p (Y_j-\\bar Y)^2.\n",
    "$$\n",
    "Puis on forme\n",
    "$$\n",
    "F_{\\text{obs}}=\\frac{S_0^2}{S_1^2}.\n",
    "$$\n",
    "Pour obtenir la p-valeur bilatérale, on utilise :\n",
    "$$\n",
    "p\\text{-valeur}=2\\,\\min\\big\\{\n",
    "F_{n-1,p-1}(F_{\\text{obs}}),\n",
    "\\;1-F_{n-1,p-1}(F_{\\text{obs}})\\big\\}.\n",
    "$$\n",
    "où $F_{n-1,p-1}$ est la fonction répartition de Fisher\n",
    "\n"
   ]
  },
  {
   "cell_type": "code",
   "execution_count": 37,
   "id": "1ba0b82f",
   "metadata": {},
   "outputs": [
    {
     "name": "stdout",
     "output_type": "stream",
     "text": [
      "F = 1.5724  avec df=(29,29)\n",
      "p-value = 0.228944\n"
     ]
    }
   ],
   "source": [
    "import numpy as np\n",
    "from scipy.stats import f,t\n",
    "\n",
    "# Données (erreurs absolues en degrés)\n",
    "g0 = np.array([13,130,39,33,10,13,\n",
    "               68,18,3,11,38,23,\n",
    "               60,5,9,59,5,86,\n",
    "               22,70,58,3,167,15,\n",
    "               30,8,20,67,26,19,], dtype=float)\n",
    "\n",
    "g1 = np.array([14,8,20,3,138,122,\n",
    "               78,69,111,3,128,31,\n",
    "               18,35,111,109,36,27,\n",
    "               32,35,12,27,8,3,\n",
    "               80,91,68,66,176,15], dtype=float)\n",
    "\n",
    "n = g0.size\n",
    "p = g1.size\n",
    "\n",
    "# Variances non biaisées (ddof=1)\n",
    "S0_sq = np.var(g0, ddof=1)\n",
    "S1_sq = np.var(g1, ddof=1)\n",
    "\n",
    "# Statistique F (on met la plus grande au numérateur pour une p-valeur bilatérale standardisée)\n",
    "if S0_sq >= S1_sq:\n",
    "    Fstat = S0_sq / S1_sq\n",
    "    dfn, dfd = n-1, p-1\n",
    "else:\n",
    "    Fstat = S1_sq / S0_sq\n",
    "    dfn, dfd = p-1, n-1\n",
    "\n",
    "# p-valeur bilatérale : 2 * min(P(F<=f), P(F>=f))\n",
    "# avec la CDF de la loi F_{dfn, dfd}\n",
    "p_one_tailed = 1 - f.cdf(Fstat, dfn, dfd)\n",
    "p_value = 2 * min(p_one_tailed, 1 - p_one_tailed)\n",
    "\n",
    "print(f\"F = {Fstat:.4f}  avec df=({dfn},{dfd})\")\n",
    "print(f\"p-value = {p_value:.6g}\")"
   ]
  },
  {
   "cell_type": "markdown",
   "id": "be67b372",
   "metadata": {},
   "source": [
    "### Q4)\n",
    "\n",
    "Modèle et hypothèses.  \n",
    "On suppose la variance commune (inconnue) et la normalité :\n",
    "$X_1,\\dots,X_n \\sim \\mathcal N(\\mu_0,\\sigma^2)$ et\n",
    "$Y_1,\\dots,Y_p \\sim \\mathcal N(\\mu_1,\\sigma^2)$, échantillons indépendants.\n",
    "\n",
    "1) Similairement à la (Q1), on analyse le gradient du log-vraisemblance pour obtenir:\n",
    "$$\n",
    "\\widehat{\\sigma^2}=\\frac{SS_0+SS_1}{n+p},\\quad \\hat{\\mu}_{0} = \\frac{1}{n}\\sum_{i=1}^{n}X_{i},\\quad \\hat{\\mu}_{1} = \\frac{1}{p}\\sum_{j=1}^{p}Y_{j}\n",
    "$$\n",
    "\n",
    "2) Remarquons que:\n",
    "$$\n",
    "\\hat{\\mu}_{0}-\\hat{\\mu}_{1}\\sim \\mathcal{N}(\\mu_{0}-\\mu_{1},\\,\\sigma^{2}\\frac{n+p}{np})\n",
    "$$\n",
    "\n",
    "3) On note:\n",
    "$$\n",
    "s^2=\\frac{(n-1)S_0^2+(p-1)S_1^2}{n+p-2} \\text{ tel que } \\frac{(n+p-2)s^2}{\\sigma} \\sim \\chi^2_{n+p-2}\n",
    "$$\n",
    "Alors, par définition de loi de Student, on a:\n",
    "$$\n",
    "T=\\frac{(\\bar X-\\bar Y)-(\\mu_0-\\mu_1)}{s\\sqrt{\\tfrac{1}{n}+\\tfrac{1}{p}}}\n",
    "\\sim t_{\\,n+p-2}.\n",
    "$$\n",
    "\n",
    "4) IC bilatéral $(1-\\alpha)$ pour $\\mu_0-\\mu_1$.  \n",
    "$$\n",
    "(\\mu_0-\\mu_1)\\in\n",
    "(\\bar X-\\bar Y)\\ \\pm\\ t_{1-\\alpha/2,\\ n+p-2}\\; s\\sqrt{\\tfrac{1}{n}+\\tfrac{1}{p}}.\n",
    "$$"
   ]
  },
  {
   "cell_type": "markdown",
   "id": "6735b793",
   "metadata": {},
   "source": [
    "### Q5)\n",
    "\n",
    "1) Statistique de test et loi nulle.  \n",
    "$$\n",
    "T=\\frac{\\bar X-\\bar Y}{s\\sqrt{\\tfrac{1}{n}+\\tfrac{1}{p}}}\n",
    "\\ \\overset{H_0}{\\sim}\\ t_{\\,n+p-2}\n",
    "$$\n",
    "\n",
    "2) Règle de décision (bilatéral, niveau $\\alpha$).  \n",
    "$$\n",
    "\\text{Rejeter }H_0 \\iff |T|>t_{1-\\alpha/2,\\ n+p-2}.\n",
    "$$"
   ]
  },
  {
   "cell_type": "markdown",
   "id": "6b8a712e",
   "metadata": {},
   "source": [
    "### Q6)\n",
    "\n",
    "Similairement à (Q3), calculons la p-valeur:\n",
    "$$\n",
    "p\\text{-valeur}=2\\,\\min\\big\\{\n",
    "F_{n+p-2}(T_{\\text{obs}}),\n",
    "\\;1-F_{n+p-2}(T_{\\text{obs}})\\big\\}.\n",
    "$$\n",
    "où $F_{n+p-2}$ est la fonction répartition de Student"
   ]
  },
  {
   "cell_type": "code",
   "execution_count": 38,
   "id": "a7940bf1",
   "metadata": {},
   "outputs": [
    {
     "name": "stdout",
     "output_type": "stream",
     "text": [
      "T = -1.6149\n",
      "p-valeur (bilatérale) = 0.11175\n"
     ]
    }
   ],
   "source": [
    "s = np.sqrt(((n-1)*S0_sq + (p-1)*S1_sq)/(n+p-2))\n",
    "\n",
    "T = (np.average(g0) - np.average(g1))/(s*np.sqrt(1/n+1/p))\n",
    "p_two_tailed = t.cdf(T, n+p-2)\n",
    "p_two_valeur = 2 * min(p_two_tailed, 1 - p_two_tailed)\n",
    "\n",
    "print(f\"T = {T:.4f}\")\n",
    "print(f\"p-valeur (bilatérale) = {p_two_valeur:.6g}\")"
   ]
  },
  {
   "cell_type": "markdown",
   "id": "a622dbb5",
   "metadata": {},
   "source": [
    "### Commentaire\n",
    "\n",
    "Ce résultat est inférieur à celui d'avant. Ainsi, ce test est plus sensible sur ce jeu de données et donc l'hypothèse $H_0$ est plus susceptible d'être rejetée. En plus, le signe $T < 0$ indique que la moyenne du groupe 0 est plus petite que celle du groupe 1."
   ]
  },
  {
   "cell_type": "markdown",
   "id": "3e170a08",
   "metadata": {},
   "source": [
    "### Q7)"
   ]
  },
  {
   "cell_type": "code",
   "execution_count": 39,
   "id": "e2708dee",
   "metadata": {},
   "outputs": [
    {
     "name": "stdout",
     "output_type": "stream",
     "text": [
      "Résultats (alpha = 0.05) — p-valeurs bilatérales par expérience\n",
      "Exp 1: diff=-11.17, T=-0.3555, df=10, p=0.7296 -> ne rejette pas H0\n",
      "Exp 2: diff=-43.17, T=-2.0090, df=10, p=0.0723 -> ne rejette pas H0\n",
      "Exp 3: diff=-18.67, T=-0.8291, df=10, p=0.4264 -> ne rejette pas H0\n",
      "Exp 4: diff=36.33, T=1.4407, df=10, p=0.1802 -> ne rejette pas H0\n",
      "Exp 5: diff=-54.33, T=-2.3577, df=10, p=0.04011 -> rejette H0\n"
     ]
    }
   ],
   "source": [
    "# Regrouper en 5 expériences (n=p=6)\n",
    "X = g0.reshape(5, 6)\n",
    "Y = g1.reshape(5, 6)\n",
    "\n",
    "def t_equal_var_two_sided(x, y):\n",
    "    n = len(x); p = len(y)\n",
    "    xbar, ybar = float(np.mean(x)), float(np.mean(y))\n",
    "    Sx2, Sy2 = float(np.var(x, ddof=1)), float(np.var(y, ddof=1))\n",
    "    s2 = ((n-1)*Sx2 + (p-1)*Sy2) / (n+p-2)\n",
    "    se = (s2*(1/n + 1/p))**0.5\n",
    "    T = (xbar - ybar) / se\n",
    "    p_two_tailed = t.cdf(T, n+p-2)\n",
    "    p_two_valeur = 2 * min(p_two_tailed, 1 - p_two_tailed)\n",
    "    return {\"diff\": xbar-ybar, \"T\": T, \"df\": n+p-2, \"pval_two_sided\": p_two_valeur}\n",
    "\n",
    "alpha = 0.05\n",
    "print(\"Résultats (alpha = 0.05) — p-valeurs bilatérales par expérience\")\n",
    "for k in range(5):\n",
    "    res = t_equal_var_two_sided(X[k], Y[k])\n",
    "    signif = \"rejette H0\" if res[\"pval_two_sided\"] < alpha else \"ne rejette pas H0\"\n",
    "    print(f\"Exp {k+1}: diff={res['diff']:.2f}, T={res['T']:.4f}, df={res['df']}, p={res['pval_two_sided']:.4g} -> {signif}\")\n"
   ]
  },
  {
   "cell_type": "markdown",
   "id": "f5201474",
   "metadata": {},
   "source": [
    "Probabilité de n'avoir aucun erreur de type I:\n",
    "$$\n",
    "P(\\text{aucun erreur de type I}) = (1-\\alpha)^m \\implies P(\\text{erreur de type I})=1-(1-\\alpha)^m \\leq m\\alpha\n",
    "$$\n",
    "En choisissant un nouveau seuil $\\alpha'=\\alpha / m$, on obtient:\n",
    "$$\n",
    "P(\\text{erreur de type I})\\leq \\alpha\n",
    "$$\n"
   ]
  },
  {
   "cell_type": "code",
   "execution_count": 40,
   "id": "11752782",
   "metadata": {},
   "outputs": [
    {
     "name": "stdout",
     "output_type": "stream",
     "text": [
      "Résultats utilisant le seuil alpha/m = 0.01 pour chaque test\n",
      "Exp 1: p=0.7296 -> ne rejette pas H0\n",
      "Exp 2: p=0.0723 -> ne rejette pas H0\n",
      "Exp 3: p=0.4264 -> ne rejette pas H0\n",
      "Exp 4: p=0.1802 -> ne rejette pas H0\n",
      "Exp 5: p=0.04011 -> ne rejette pas H0\n"
     ]
    }
   ],
   "source": [
    "alpha = 0.05\n",
    "m = 5\n",
    "alpha_bonf = alpha / m\n",
    "\n",
    "print(f\"Résultats utilisant le seuil alpha/m = {alpha_bonf:.3g} pour chaque test\")\n",
    "for k in range(5):\n",
    "    res = t_equal_var_two_sided(X[k], Y[k])\n",
    "    signif = \"rejette H0\" if res[\"pval_two_sided\"] < alpha_bonf  else \"ne rejette pas H0\"\n",
    "    print(f\"Exp {k+1}: p={res['pval_two_sided']:.4g} -> {signif}\")"
   ]
  },
  {
   "cell_type": "markdown",
   "id": "df5ae141",
   "metadata": {},
   "source": [
    "Conclusion: après correction pour tests multiples, aucune des 5 expériences n’est significative: l'hypothèse nulle n'est pas rejetée"
   ]
  },
  {
   "cell_type": "markdown",
   "id": "a109b041",
   "metadata": {},
   "source": [
    "### Q8)\n",
    "On souhaite tester l'hypothèse unilatérale :\n",
    "$$\n",
    "H_0:\\ \\mu_0 - \\mu_1\\le 0\n",
    "$$\n",
    "On utilise les mêmes statistiques de la (Q5).  \n",
    "\n",
    "- Région critique (niveau $\\alpha$).  \n",
    "$$\n",
    "\\text{Rejeter }H_0 \\iff T>t_{1-\\alpha,\\ n+p-2}.\n",
    "$$\n",
    "\n",
    "- p-valeur.  \n",
    "\n",
    "Si l’on observe $T=t_{\\mathrm{obs}}$,\n",
    "$$\n",
    "\\text{p-valeur}=1-F_{t_(n+p-2)}(t_{\\mathrm{obs}})\n",
    "$$\n",
    "où $F_{t_(n+p-2)}$ désigne la CDF de la loi de Student.\n"
   ]
  },
  {
   "cell_type": "code",
   "execution_count": 41,
   "id": "3c84cf19",
   "metadata": {},
   "outputs": [
    {
     "name": "stdout",
     "output_type": "stream",
     "text": [
      "{'T': -2.357668504746849, 'mean_diff': -54.33333333333334, 'df': 10, 'pval_one_sided': 0.9799437531600804}\n"
     ]
    }
   ],
   "source": [
    "def t_test_equal_var_one_sided_right(x, y):\n",
    "    n, p = len(x), len(y)\n",
    "    xbar, ybar = np.mean(x), np.mean(y)\n",
    "    S0, S1 = np.var(x, ddof=1), np.var(y, ddof=1)\n",
    "    s2 = ((n-1)*S0 + (p-1)*S1)/(n+p-2)\n",
    "    se = (s2*(1/n + 1/p))**0.5\n",
    "    T = (xbar - ybar)/se\n",
    "    pval = 1 - t.cdf(T, n+p-2)   # H0: mu0 <= mu1  vs  H1: mu0 > mu1\n",
    "    return {\"T\": float(T),\"mean_diff\": float(xbar - ybar), \"df\": n+p-2, \"pval_one_sided\": float(pval)}\n",
    "\n",
    "# Exemple (Expérience 5) :\n",
    "x = np.array([30,8,20,67,26,19], float)      # groupe 0\n",
    "y = np.array([80,91,68,66,176,15], float)    # groupe 1\n",
    "print(t_test_equal_var_one_sided_right(x, y))\n"
   ]
  }
 ],
 "metadata": {
  "kernelspec": {
   "display_name": "Python 3",
   "language": "python",
   "name": "python3"
  },
  "language_info": {
   "codemirror_mode": {
    "name": "ipython",
    "version": 3
   },
   "file_extension": ".py",
   "mimetype": "text/x-python",
   "name": "python",
   "nbconvert_exporter": "python",
   "pygments_lexer": "ipython3",
   "version": "3.13.3"
  }
 },
 "nbformat": 4,
 "nbformat_minor": 5
}
